{
 "cells": [
  {
   "cell_type": "markdown",
   "metadata": {},
   "source": [
    "### **Linear Regression with one variable**"
   ]
  },
  {
   "cell_type": "markdown",
   "metadata": {},
   "source": [
    "Data Generation for a single feature!"
   ]
  },
  {
   "cell_type": "code",
   "execution_count": 27,
   "metadata": {},
   "outputs": [
    {
     "name": "stdout",
     "output_type": "stream",
     "text": [
      "Theta : 5\n",
      "Noise : -0.05682070303605791\n"
     ]
    }
   ],
   "source": [
    "from sklearn.preprocessing import MinMaxScaler \n",
    "import matplotlib.pyplot as plt\n",
    "import numpy as np\n",
    "import pandas as pd\n",
    "%matplotlib inline \n",
    "\n",
    "\n",
    "sample_size = 100\n",
    "\n",
    "x = np.linspace(0.0,1,sample_size) \n",
    "noise = np.random.randn(len(x)) \n",
    "th = 5\n",
    "\n",
    "print(\"Theta : \" + str(th))\n",
    "print(\"Noise : \" + str(np.mean(noise)))\n",
    "\n",
    "y = th*x + 2*noise"
   ]
  },
  {
   "cell_type": "code",
   "execution_count": 28,
   "metadata": {},
   "outputs": [
    {
     "data": {
      "text/html": [
       "<div>\n",
       "<style scoped>\n",
       "    .dataframe tbody tr th:only-of-type {\n",
       "        vertical-align: middle;\n",
       "    }\n",
       "\n",
       "    .dataframe tbody tr th {\n",
       "        vertical-align: top;\n",
       "    }\n",
       "\n",
       "    .dataframe thead th {\n",
       "        text-align: right;\n",
       "    }\n",
       "</style>\n",
       "<table border=\"1\" class=\"dataframe\">\n",
       "  <thead>\n",
       "    <tr style=\"text-align: right;\">\n",
       "      <th></th>\n",
       "      <th>X</th>\n",
       "      <th>Noise(taken as a feature)</th>\n",
       "      <th>Y</th>\n",
       "    </tr>\n",
       "  </thead>\n",
       "  <tbody>\n",
       "    <tr>\n",
       "      <th>0</th>\n",
       "      <td>0.000000</td>\n",
       "      <td>-0.750832</td>\n",
       "      <td>-1.501665</td>\n",
       "    </tr>\n",
       "    <tr>\n",
       "      <th>1</th>\n",
       "      <td>0.010101</td>\n",
       "      <td>-1.099868</td>\n",
       "      <td>-2.149231</td>\n",
       "    </tr>\n",
       "    <tr>\n",
       "      <th>2</th>\n",
       "      <td>0.020202</td>\n",
       "      <td>0.462870</td>\n",
       "      <td>1.026750</td>\n",
       "    </tr>\n",
       "    <tr>\n",
       "      <th>3</th>\n",
       "      <td>0.030303</td>\n",
       "      <td>0.750872</td>\n",
       "      <td>1.653258</td>\n",
       "    </tr>\n",
       "    <tr>\n",
       "      <th>4</th>\n",
       "      <td>0.040404</td>\n",
       "      <td>0.061306</td>\n",
       "      <td>0.324632</td>\n",
       "    </tr>\n",
       "  </tbody>\n",
       "</table>\n",
       "</div>"
      ],
      "text/plain": [
       "          X  Noise(taken as a feature)         Y\n",
       "0  0.000000                  -0.750832 -1.501665\n",
       "1  0.010101                  -1.099868 -2.149231\n",
       "2  0.020202                   0.462870  1.026750\n",
       "3  0.030303                   0.750872  1.653258\n",
       "4  0.040404                   0.061306  0.324632"
      ]
     },
     "execution_count": 28,
     "metadata": {},
     "output_type": "execute_result"
    }
   ],
   "source": [
    "data = np.column_stack((x, noise, y)) \n",
    "data_df = pd.DataFrame({'X': data[:, 0], 'Noise(taken as a feature)': data[:, 1], 'Y': data[:, 2]})\n",
    "data_df.head()"
   ]
  },
  {
   "cell_type": "code",
   "execution_count": 29,
   "metadata": {},
   "outputs": [
    {
     "data": {
      "text/plain": [
       "Text(0, 0.5, 'Y')"
      ]
     },
     "execution_count": 29,
     "metadata": {},
     "output_type": "execute_result"
    },
    {
     "data": {
      "image/png": "[encoded data removed]",
      "text/plain": [
       "<Figure size 432x288 with 1 Axes>"
      ]
     },
     "metadata": {
      "needs_background": "light"
     },
     "output_type": "display_data"
    }
   ],
   "source": [
    "plt.scatter(x,y)\n",
    "plt.xlabel('X')\n",
    "plt.ylabel('Y')"
   ]
  },
  {
   "cell_type": "code",
   "execution_count": 30,
   "metadata": {},
   "outputs": [],
   "source": [
    "from sklearn import preprocessing"
   ]
  },
  {
   "cell_type": "code",
   "execution_count": 31,
   "metadata": {},
   "outputs": [
    {
     "name": "stdout",
     "output_type": "stream",
     "text": [
      "Predicted Theta : 5.051275684094617\n",
      "Predicted Noise : -0.13927924811861983\n"
     ]
    },
    {
     "data": {
      "text/plain": [
       "[<matplotlib.lines.Line2D at 0x7faaa8485128>]"
      ]
     },
     "execution_count": 31,
     "metadata": {},
     "output_type": "execute_result"
    },
    {
     "data": {
      "image/png": "[encoded data removed]",
      "text/plain": [
       "<Figure size 432x288 with 1 Axes>"
      ]
     },
     "metadata": {
      "needs_background": "light"
     },
     "output_type": "display_data"
    }
   ],
   "source": [
    "theta_1 = np.random.uniform(1)\n",
    "theta_0 = np.random.uniform(1) \n",
    "\n",
    "\n",
    "z = 0.38\n",
    "\n",
    "hyp_fun = theta_1*x + theta_0\n",
    "cost_fn = (1/(2*sample_size))*np.sum((hyp_fun - y)**2)\n",
    "\n",
    "temp = np.ones(2)\n",
    "\n",
    "for i in range(1000):\n",
    "    temp[0] = theta_1 - z*(1/sample_size)*(np.sum((hyp_fun - y)*x))\n",
    "    temp[1]= theta_0 - z*(1/sample_size)*(np.sum(hyp_fun - y))\n",
    "    \n",
    "    theta_0 = temp[1]\n",
    "    theta_1 = temp[0]\n",
    "    hyp_fun = theta_1*x + theta_0\n",
    "    cost_fn = (1/(2*sample_size))*np.sum((hyp_fun - y)**2)\n",
    "\n",
    "print(\"Predicted Theta : \" + str(theta_1))\n",
    "\n",
    "print(\"Predicted Noise : \" + str(theta_0))\n",
    "\n",
    "plt.scatter(x,y)    \n",
    "plt.plot(x,hyp_fun)\n",
    "     "
   ]
  },
  {
   "cell_type": "markdown",
   "metadata": {},
   "source": [
    "### **Linear Regression with multiple variables**"
   ]
  },
  {
   "cell_type": "markdown",
   "metadata": {},
   "source": [
    "Data Generation for three features!"
   ]
  },
  {
   "cell_type": "code",
   "execution_count": 33,
   "metadata": {},
   "outputs": [],
   "source": [
    "%matplotlib inline \n",
    "\n",
    "sample_size = 100\n",
    "\n",
    "x0 = np.ones(100, dtype = int)\n",
    "x0 = x0.reshape(100,1)\n",
    "\n",
    "x1_size = np.random.randint(1000,5000,sample_size) \n",
    "x1 = x1_size.reshape(100,1)\n",
    "\n",
    "x2_rooms = np.random.randint(3,10,sample_size)\n",
    "x2 = x2_rooms.reshape(100,1)\n",
    "\n",
    "x3_bed = np.random.randint(2,5,sample_size)\n",
    "x3 = x3_bed.reshape(100,1)\n",
    "\n",
    "noise = np.random.randn(len(x0))\n",
    "\n",
    "noise = noise.reshape(100,1)\n",
    "\n",
    "# Normalization\n",
    "\n",
    "x1 = (x1 - min(x1))/(max(x1) - min(x1))\n",
    "x2 = (x2 - min(x2))/(max(x2) - min(x2))\n",
    "x3 = (x3 - min(x3))/(max(x3) - min(x3))\n",
    "\n",
    "\n",
    "ft_matrix = np.column_stack((x0, x1, x2, x3))\n",
    "theta = np.array([0, 5, 3, 2])\n",
    "theta = theta.reshape(4,1)\n",
    "y = ft_matrix.dot(theta)\n",
    "y = y.reshape(100,1)"
   ]
  },
  {
   "cell_type": "code",
   "execution_count": 40,
   "metadata": {},
   "outputs": [
    {
     "name": "stdout",
     "output_type": "stream",
     "text": [
      "[[0]\n",
      " [5]\n",
      " [3]\n",
      " [2]]\n"
     ]
    }
   ],
   "source": [
    "print(theta)"
   ]
  },
  {
   "cell_type": "code",
   "execution_count": 37,
   "metadata": {},
   "outputs": [
    {
     "data": {
      "text/html": [
       "<div>\n",
       "<style scoped>\n",
       "    .dataframe tbody tr th:only-of-type {\n",
       "        vertical-align: middle;\n",
       "    }\n",
       "\n",
       "    .dataframe tbody tr th {\n",
       "        vertical-align: top;\n",
       "    }\n",
       "\n",
       "    .dataframe thead th {\n",
       "        text-align: right;\n",
       "    }\n",
       "</style>\n",
       "<table border=\"1\" class=\"dataframe\">\n",
       "  <thead>\n",
       "    <tr style=\"text-align: right;\">\n",
       "      <th></th>\n",
       "      <th>Size</th>\n",
       "      <th>Rooms</th>\n",
       "      <th>#Beds</th>\n",
       "      <th>Y(Price)</th>\n",
       "    </tr>\n",
       "  </thead>\n",
       "  <tbody>\n",
       "    <tr>\n",
       "      <th>0</th>\n",
       "      <td>2977.0</td>\n",
       "      <td>5.0</td>\n",
       "      <td>4.0</td>\n",
       "      <td>54277.678343</td>\n",
       "    </tr>\n",
       "    <tr>\n",
       "      <th>1</th>\n",
       "      <td>4608.0</td>\n",
       "      <td>6.0</td>\n",
       "      <td>3.0</td>\n",
       "      <td>70129.122986</td>\n",
       "    </tr>\n",
       "    <tr>\n",
       "      <th>2</th>\n",
       "      <td>4823.0</td>\n",
       "      <td>7.0</td>\n",
       "      <td>3.0</td>\n",
       "      <td>77877.780619</td>\n",
       "    </tr>\n",
       "    <tr>\n",
       "      <th>3</th>\n",
       "      <td>3168.0</td>\n",
       "      <td>5.0</td>\n",
       "      <td>4.0</td>\n",
       "      <td>56719.509077</td>\n",
       "    </tr>\n",
       "    <tr>\n",
       "      <th>4</th>\n",
       "      <td>2199.0</td>\n",
       "      <td>6.0</td>\n",
       "      <td>2.0</td>\n",
       "      <td>29331.373050</td>\n",
       "    </tr>\n",
       "  </tbody>\n",
       "</table>\n",
       "</div>"
      ],
      "text/plain": [
       "     Size  Rooms  #Beds      Y(Price)\n",
       "0  2977.0    5.0    4.0  54277.678343\n",
       "1  4608.0    6.0    3.0  70129.122986\n",
       "2  4823.0    7.0    3.0  77877.780619\n",
       "3  3168.0    5.0    4.0  56719.509077\n",
       "4  2199.0    6.0    2.0  29331.373050"
      ]
     },
     "execution_count": 37,
     "metadata": {},
     "output_type": "execute_result"
    }
   ],
   "source": [
    "data_ = np.column_stack((x1_size, x2_rooms, x3_bed, y)) \n",
    "data_df_ = pd.DataFrame({'Size': data_[:, 0], 'Rooms': data_[:, 1], '#Beds': data_[:, 2], 'Y(Price)': data_[:, 3]*10000})\n",
    "data_df_.head()"
   ]
  },
  {
   "cell_type": "code",
   "execution_count": 39,
   "metadata": {},
   "outputs": [
    {
     "name": "stdout",
     "output_type": "stream",
     "text": [
      "[[0.01313105]\n",
      " [4.98859501]\n",
      " [2.99305557]\n",
      " [1.99367423]]\n"
     ]
    }
   ],
   "source": [
    "theta_guess = np.array(np.random.randn(4))\n",
    "theta_guess = theta_guess.reshape(4,1)\n",
    "\n",
    "learning_rate = 0.01\n",
    "  \n",
    "hyp_fun = ft_matrix.dot(theta_guess) \n",
    "\n",
    "cost_fun = (1/(2*sample_size))*(np.sum((hyp_fun - y)**2))\n",
    "\n",
    "temp = np.ones(4).reshape(4,1)\n",
    "\n",
    "for i in range(10000):\n",
    "    \n",
    "    temp = theta_guess - (learning_rate*(1/sample_size)*(np.sum(((hyp_fun - y)*(ft_matrix)),axis=0))).reshape(4,1)\n",
    "    theta_guess = temp\n",
    "\n",
    "    hyp_fun = ft_matrix.dot(theta_guess)\n",
    "    cost_fun = 1/(2*sample_size)*(np.sum((hyp_fun - y)**2))\n",
    "    \n",
    "    \n",
    "print(theta_guess)\n",
    "    "
   ]
  },
  {
   "cell_type": "code",
   "execution_count": null,
   "metadata": {},
   "outputs": [],
   "source": []
  }
 ],
 "metadata": {
  "kernelspec": {
   "display_name": "Python 3",
   "language": "python",
   "name": "python3"
  },
  "language_info": {
   "codemirror_mode": {
    "name": "ipython",
    "version": 3
   },
   "file_extension": ".py",
   "mimetype": "text/x-python",
   "name": "python",
   "nbconvert_exporter": "python",
   "pygments_lexer": "ipython3",
   "version": "3.6.9"
  }
 },
 "nbformat": 4,
 "nbformat_minor": 2
}
